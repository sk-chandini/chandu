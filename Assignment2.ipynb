{
  "nbformat": 4,
  "nbformat_minor": 0,
  "metadata": {
    "colab": {
      "provenance": [],
      "authorship_tag": "ABX9TyN5z70bnmBQ+8OI9T+YeyiM",
      "include_colab_link": true
    },
    "kernelspec": {
      "name": "python3",
      "display_name": "Python 3"
    },
    "language_info": {
      "name": "python"
    }
  },
  "cells": [
    {
      "cell_type": "markdown",
      "metadata": {
        "id": "view-in-github",
        "colab_type": "text"
      },
      "source": [
        "<a href=\"https://colab.research.google.com/github/sk-chandini/chandu/blob/main/Assignment2.ipynb\" target=\"_parent\"><img src=\"https://colab.research.google.com/assets/colab-badge.svg\" alt=\"Open In Colab\"/></a>"
      ]
    },
    {
      "cell_type": "markdown",
      "source": [
        "List of teachers and subjects"
      ],
      "metadata": {
        "id": "psIxjFa0qW47"
      }
    },
    {
      "cell_type": "code",
      "execution_count": 1,
      "metadata": {
        "id": "6YiOYjiOnWG3"
      },
      "outputs": [],
      "source": [
        "teachers_list=['Santhoshi','Naidu','Someshswar','Mohan']\n",
        "subject_list=['OOAD','Compiler Design','Maths','Computer Networks']"
      ]
    },
    {
      "cell_type": "markdown",
      "source": [
        "Combining teachers_list and subject_list by using zip() function"
      ],
      "metadata": {
        "id": "DDONsdKbqiO5"
      }
    },
    {
      "cell_type": "code",
      "source": [
        "teacher_subject_list=list(zip(teachers_list,subject_list))"
      ],
      "metadata": {
        "id": "RFP-fR-qpGIc"
      },
      "execution_count": 2,
      "outputs": []
    },
    {
      "cell_type": "code",
      "source": [
        "teacher_subject_list"
      ],
      "metadata": {
        "colab": {
          "base_uri": "https://localhost:8080/"
        },
        "id": "8e4grqDLpZie",
        "outputId": "0a4e3ad0-e670-44b9-a9cf-e0a60bcdab20"
      },
      "execution_count": 3,
      "outputs": [
        {
          "output_type": "execute_result",
          "data": {
            "text/plain": [
              "[('Santhoshi', 'OOAD'),\n",
              " ('Naidu', 'Compiler Design'),\n",
              " ('Someshswar', 'Maths'),\n",
              " ('Mohan', 'Computer Networks')]"
            ]
          },
          "metadata": {},
          "execution_count": 3
        }
      ]
    },
    {
      "cell_type": "markdown",
      "source": [
        "Converting into dictionary by using dict() function"
      ],
      "metadata": {
        "id": "lFwu-WEjq0ur"
      }
    },
    {
      "cell_type": "code",
      "source": [
        "dict(teacher_subject_list)"
      ],
      "metadata": {
        "colab": {
          "base_uri": "https://localhost:8080/"
        },
        "id": "HysD1a7Lpmbf",
        "outputId": "8878c7d1-1ab3-41f7-dbe7-221ff5f3fcc0"
      },
      "execution_count": 4,
      "outputs": [
        {
          "output_type": "execute_result",
          "data": {
            "text/plain": [
              "{'Santhoshi': 'OOAD',\n",
              " 'Naidu': 'Compiler Design',\n",
              " 'Someshswar': 'Maths',\n",
              " 'Mohan': 'Computer Networks'}"
            ]
          },
          "metadata": {},
          "execution_count": 4
        }
      ]
    }
  ]
}