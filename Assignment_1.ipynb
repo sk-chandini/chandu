{
  "nbformat": 4,
  "nbformat_minor": 0,
  "metadata": {
    "colab": {
      "provenance": [],
      "include_colab_link": true
    },
    "kernelspec": {
      "name": "python3",
      "display_name": "Python 3"
    },
    "language_info": {
      "name": "python"
    }
  },
  "cells": [
    {
      "cell_type": "markdown",
      "metadata": {
        "id": "view-in-github",
        "colab_type": "text"
      },
      "source": [
        "<a href=\"https://colab.research.google.com/github/sk-chandini/chandu/blob/main/Assignment_1.ipynb\" target=\"_parent\"><img src=\"https://colab.research.google.com/assets/colab-badge.svg\" alt=\"Open In Colab\"/></a>"
      ]
    },
    {
      "cell_type": "code",
      "execution_count": null,
      "metadata": {
        "id": "1XFbFt5TzrIk"
      },
      "outputs": [],
      "source": [
        "paragraph = \"\"\"Generative AI is changing the way content is created! from images to text, it can produce outputs that seem human-made. datapro is offering hands-on training to help you get started. check out this link: https://datapro-ai.example.com  . many industries are adopting generative ai, and datapro wants you to lead the change!!!\"\"\"\n"
      ]
    },
    {
      "cell_type": "code",
      "source": [
        "paragraph"
      ],
      "metadata": {
        "colab": {
          "base_uri": "https://localhost:8080/",
          "height": 53
        },
        "id": "vzCmfVNLzzCb",
        "outputId": "d7c86a89-25d1-4817-ecf8-6f712c129ff3"
      },
      "execution_count": null,
      "outputs": [
        {
          "output_type": "execute_result",
          "data": {
            "text/plain": [
              "'Generative AI is changing the way content is created! from images to text, it can produce outputs that seem human-made. datapro is offering hands-on training to help you get started. check out this link: https://datapro-ai.example.com  . many industries are adopting generative ai, and datapro wants you to lead the change!!!'"
            ],
            "application/vnd.google.colaboratory.intrinsic+json": {
              "type": "string"
            }
          },
          "metadata": {},
          "execution_count": 2
        }
      ]
    },
    {
      "cell_type": "code",
      "source": [
        "paragraph.split(\" .\")"
      ],
      "metadata": {
        "colab": {
          "base_uri": "https://localhost:8080/"
        },
        "id": "H_76rBT5z17U",
        "outputId": "3caa83de-1e06-4303-993b-c2fa9092fae6"
      },
      "execution_count": null,
      "outputs": [
        {
          "output_type": "execute_result",
          "data": {
            "text/plain": [
              "['Generative AI is changing the way content is created! from images to text, it can produce outputs that seem human-made. datapro is offering hands-on training to help you get started. check out this link: https://datapro-ai.example.com ',\n",
              " ' many industries are adopting generative ai, and datapro wants you to lead the change!!!']"
            ]
          },
          "metadata": {},
          "execution_count": 3
        }
      ]
    },
    {
      "cell_type": "code",
      "source": [
        "''.join(paragraph.split(\".\"))"
      ],
      "metadata": {
        "colab": {
          "base_uri": "https://localhost:8080/",
          "height": 53
        },
        "id": "kSSsysUmz8rU",
        "outputId": "9b48838a-8c2a-484d-e109-70c445cd439c"
      },
      "execution_count": null,
      "outputs": [
        {
          "output_type": "execute_result",
          "data": {
            "text/plain": [
              "'Generative AI is changing the way content is created! from images to text, it can produce outputs that seem human-made datapro is offering hands-on training to help you get started check out this link: https://datapro-aiexamplecom   many industries are adopting generative ai, and datapro wants you to lead the change!!!'"
            ],
            "application/vnd.google.colaboratory.intrinsic+json": {
              "type": "string"
            }
          },
          "metadata": {},
          "execution_count": 4
        }
      ]
    },
    {
      "cell_type": "code",
      "source": [
        "paragraph.capitalize()"
      ],
      "metadata": {
        "colab": {
          "base_uri": "https://localhost:8080/",
          "height": 53
        },
        "id": "7fuee1wd0BLE",
        "outputId": "f4bab238-9824-47f9-a739-a5210b763bed"
      },
      "execution_count": null,
      "outputs": [
        {
          "output_type": "execute_result",
          "data": {
            "text/plain": [
              "'Generative ai is changing the way content is created! from images to text, it can produce outputs that seem human-made. datapro is offering hands-on training to help you get started. check out this link: https://datapro-ai.example.com  . many industries are adopting generative ai, and datapro wants you to lead the change!!!'"
            ],
            "application/vnd.google.colaboratory.intrinsic+json": {
              "type": "string"
            }
          },
          "metadata": {},
          "execution_count": 5
        }
      ]
    },
    {
      "cell_type": "code",
      "source": [
        "paragraph.replace('datapro','sumathi')"
      ],
      "metadata": {
        "colab": {
          "base_uri": "https://localhost:8080/",
          "height": 53
        },
        "id": "paW6DXIu0C2d",
        "outputId": "6dc64b27-7c62-43dc-ecbf-ddbbef0042e3"
      },
      "execution_count": null,
      "outputs": [
        {
          "output_type": "execute_result",
          "data": {
            "text/plain": [
              "'Generative AI is changing the way content is created! from images to text, it can produce outputs that seem human-made. sumathi is offering hands-on training to help you get started. check out this link: https://sumathi-ai.example.com  . many industries are adopting generative ai, and sumathi wants you to lead the change!!!'"
            ],
            "application/vnd.google.colaboratory.intrinsic+json": {
              "type": "string"
            }
          },
          "metadata": {},
          "execution_count": 6
        }
      ]
    },
    {
      "cell_type": "code",
      "source": [
        "import re\n",
        "s=re.sub(r'http[s]?://\\S+', '', paragraph)\n",
        "s"
      ],
      "metadata": {
        "colab": {
          "base_uri": "https://localhost:8080/",
          "height": 53
        },
        "id": "pjwaackJ0HuV",
        "outputId": "0c8eee92-2f3b-412c-d8a3-7d4e8ece88a4"
      },
      "execution_count": null,
      "outputs": [
        {
          "output_type": "execute_result",
          "data": {
            "text/plain": [
              "'Generative AI is changing the way content is created! from images to text, it can produce outputs that seem human-made. datapro is offering hands-on training to help you get started. check out this link:   . many industries are adopting generative ai, and datapro wants you to lead the change!!!'"
            ],
            "application/vnd.google.colaboratory.intrinsic+json": {
              "type": "string"
            }
          },
          "metadata": {},
          "execution_count": 7
        }
      ]
    },
    {
      "cell_type": "code",
      "source": [
        "re.sub('[^\\w\\s]','',s)"
      ],
      "metadata": {
        "colab": {
          "base_uri": "https://localhost:8080/",
          "height": 53
        },
        "id": "UN5Blr3e0Mwa",
        "outputId": "e624bfca-dc05-40db-d798-8f1ad27d18f2"
      },
      "execution_count": null,
      "outputs": [
        {
          "output_type": "execute_result",
          "data": {
            "text/plain": [
              "'Generative AI is changing the way content is created from images to text it can produce outputs that seem humanmade datapro is offering handson training to help you get started check out this link    many industries are adopting generative ai and datapro wants you to lead the change'"
            ],
            "application/vnd.google.colaboratory.intrinsic+json": {
              "type": "string"
            }
          },
          "metadata": {},
          "execution_count": 8
        }
      ]
    }
  ]
}